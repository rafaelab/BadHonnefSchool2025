{
 "cells": [
  {
   "cell_type": "markdown",
   "metadata": {},
   "source": [
    "# Gamma-ray propagation analysis\n",
    "\n",
    "Here we analyse the simulations of gamma-ray propagation for the two scenarios, with and without LIV."
   ]
  },
  {
   "cell_type": "code",
   "execution_count": null,
   "metadata": {},
   "outputs": [],
   "source": [
    "using Corpuscles\n",
    "using CSV\n",
    "using DataFrames\n",
    "using CairoMakie\n",
    "using StatsBase"
   ]
  },
  {
   "cell_type": "code",
   "execution_count": null,
   "metadata": {},
   "outputs": [],
   "source": [
    "\"\"\"\n",
    "Reads a simulation file and returns a DataFrame with the data.\n",
    "\"\"\"\n",
    "function readSimulation(filename)\t\n",
    "\tcolumns = [\"D\", \"ID\", \"E\", \"ID0\", \"E0\", \"W\"]\n",
    "\tdata = CSV.File(filename; header = columns, comment = \"#\") |> DataFrame\n",
    "\treturn data\n",
    "end\n",
    ";"
   ]
  },
  {
   "cell_type": "markdown",
   "metadata": {},
   "source": [
    "Now we proceed with the postprocessing of the simulation. \n",
    "We simulated events following a distribution\n",
    "\\begin{equation}\n",
    "\t\\dfrac{\\text{d}N}{\\text{d}E_0} \\propto E_0^{-1}\t\\,.\n",
    "\\end{equation}\n",
    "\n",
    "Suppose we actually wanted to have events distributed according to some spectrum:\n",
    "\\begin{equation}\n",
    "\t\\dfrac{\\text{d}N}{\\text{d}E_0} \\propto E_0^{-\\alpha} \\exp\\left( - \\dfrac{E}{E_{\\text{max}}}\\right)\t\\,.\n",
    "\\end{equation}\n",
    "\n",
    "The reweighting procedure for this change is implemented in the function below."
   ]
  },
  {
   "cell_type": "code",
   "execution_count": null,
   "metadata": {},
   "outputs": [],
   "source": [
    "\"\"\"\n",
    "Given a dataframe with the simulation, this function computes the desired weights.\n",
    "These weights are saved in the dataframe as a new column with a name of choice (here `W1`).\n",
    "The simulation is assumed to have a spectrum E^(-α0), with α0=1 in this case.\n",
    "\n",
    "# Input\n",
    ". `data`: dataframe containing the simulations \\\\\n",
    ". `α`: desired spectral index \\\\\n",
    ". `Emax`: spectrum cuts off above Emax \\\\\n",
    ". `columnName`: name of the column to be created; defaults to 'W1' \\\\\n",
    ". `α0`: injection spectrum used in the simulation (default to α0 = 1) \\\\\n",
    "\"\"\"\n",
    "function reweightSimulation!(data, α, Emax; columnName = \"W1\", α0 = 1.)\n",
    "\t# define the function for reweighting the spectrum\n",
    "\tweightSpectrum(E, id) = id ≠ 22 ? 0. : (E ^ (α0 - α) * exp(- E / (Emax)))\n",
    "\n",
    "\t# other functions can be defined here, e.g. for the distance weight\n",
    "\t# weightDistance = ....\n",
    "\n",
    "\tdata[!, columnName] = @. weightSpectrum(data.E0, data.ID)\n",
    "end\n",
    ";"
   ]
  },
  {
   "cell_type": "code",
   "execution_count": null,
   "metadata": {},
   "outputs": [],
   "source": [
    "filenameSR = \"simulations/sim1D-gamma-SR.txt\"\n",
    "filenameLIV2m = \"simulations/sim1D-gamma-LIV1_m.txt\"\n",
    "filenameLIV2p = \"simulations/sim1D-gamma-LIV1_p.txt\"\n",
    "dataSR = readSimulation(filenameSR)\n",
    "dataLIV2m = readSimulation(filenameLIV2m)\n",
    "dataLIV2p = readSimulation(filenameLIV2p)\n",
    "\n",
    "# source spectrum (for reweighting)\n",
    "α = 2.0\n",
    "Emax = 3e14\n",
    "\n",
    "reweightSimulation!(dataSR, α, Emax; columnName = \"W1\")\n",
    "reweightSimulation!(dataLIV2m, α, Emax; columnName = \"W1\")\n",
    "reweightSimulation!(dataLIV2p, α, Emax; columnName = \"W1\");"
   ]
  },
  {
   "cell_type": "code",
   "execution_count": null,
   "metadata": {},
   "outputs": [],
   "source": [
    "nBinsE = 30\n",
    "binEmin, binEmax = 1e9, 1e15\n",
    "binEdgesE = 10 .^ range(log10(binEmin), log10(binEmax), length = nBinsE + 1)\n",
    "binCentresE = 10 .^ [(log10(binEdgesE[i]) + log10(binEdgesE[i + 1])) / 2. for i in 1 : nBinsE]\n",
    "\n",
    "specSR = fit(Histogram, dataSR.E, weights(dataSR.W1), binEdgesE)\n",
    "specLIV2m = fit(Histogram, dataLIV2m.E, weights(dataLIV2m.W1), binEdgesE)\n",
    "specLIV2p = fit(Histogram, dataLIV2p.E, weights(dataLIV2p.W1), binEdgesE);\n",
    "\n",
    "\n",
    "# we now compute y to plot E^2 dN/dE \n",
    "ySR = specSR.weights\n",
    "yLIV2m = specLIV2m.weights\n",
    "yLIV2p = specLIV2p.weights\n",
    "ySR .*=(binCentresE .^ 1)\n",
    "yLIV2m .*=(binCentresE .^ 1)\n",
    "yLIV2p .*=(binCentresE .^ 1)\n",
    "ySR ./= sum(ySR)\n",
    "yLIV2m ./= sum(yLIV2m)\n",
    "yLIV2p ./= sum(yLIV2p)\n",
    ";\n",
    "\n"
   ]
  },
  {
   "cell_type": "code",
   "execution_count": null,
   "metadata": {},
   "outputs": [],
   "source": [
    "fig = Figure()\n",
    "ax = Axis(fig[1, 1]; xlabel = \"energy [eV]\", ylabel = \"spectrum [arb. u.]\", xscale = log10, yscale = log10)\n",
    "ylims!(ax, 1e-8, 1.)\n",
    "lines!(ax, binCentresE, ySR; label = \"SR\")\n",
    "lines!(ax, binCentresE, yLIV2p; label = \"LIV n=1 superluminal\")\n",
    "lines!(ax, binCentresE, yLIV2m; label = \"LIV n=1 subluminal\")\n",
    "axislegend(ax; position = :lb)\n",
    "\n",
    "fig\n"
   ]
  },
  {
   "cell_type": "code",
   "execution_count": null,
   "metadata": {},
   "outputs": [],
   "source": []
  }
 ],
 "metadata": {
  "kernelspec": {
   "display_name": "Julia 1.11.3",
   "language": "julia",
   "name": "julia-1.11"
  },
  "language_info": {
   "file_extension": ".jl",
   "mimetype": "application/julia",
   "name": "julia",
   "version": "1.11.3"
  }
 },
 "nbformat": 4,
 "nbformat_minor": 2
}
